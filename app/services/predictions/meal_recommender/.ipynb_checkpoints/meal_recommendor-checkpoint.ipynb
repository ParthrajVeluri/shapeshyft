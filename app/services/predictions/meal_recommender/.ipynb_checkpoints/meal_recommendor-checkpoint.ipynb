{
 "cells": [
  {
   "cell_type": "code",
   "execution_count": 3,
   "id": "b4a6fb63",
   "metadata": {},
   "outputs": [],
   "source": [
    "import pandas as pd\n",
    "import joblib\n",
    "import json\n",
    "\n",
    "final_df = pd.read_csv('./preprocessed_mealplans.csv')\n",
    "\n",
    "def recommend_meal(calorie_intake, tolerance=100):\n",
    "\n",
    "    model = joblib.load('meal_recommendation_model.pkl')\n",
    "\n",
    "    possible_meals = final_df[(final_df['calories'] >= calorie_intake - tolerance) &\n",
    "                              (final_df['calories'] <= calorie_intake + tolerance)]\n",
    "\n",
    "    while possible_meals.empty:\n",
    "        tolerance += 50\n",
    "        possible_meals = final_df[(final_df['calories'] >= calorie_intake - tolerance) &\n",
    "                                  (final_df['calories'] <= calorie_intake + tolerance)]\n",
    "\n",
    "    selected_plan = possible_meals.sample(n=1)\n",
    "\n",
    "    breakfast_title = selected_plan['breakfast'].values[0]\n",
    "    lunch_title = selected_plan['lunch'].values[0]\n",
    "    dinner_title = selected_plan['dinner'].values[0]\n",
    "    snacks_title = selected_plan['snacks'].values[0]\n",
    "\n",
    "    recommendation = {\n",
    "        'calorie_intake': calorie_intake,\n",
    "        'meals': {\n",
    "            'breakfast': breakfast_title,\n",
    "            'lunch': lunch_title,\n",
    "            'snacks': snacks_title,\n",
    "            'dinner': dinner_title\n",
    "        }\n",
    "    }\n",
    "    return json.dumps(recommendation, indent=2)"
   ]
  },
  {
   "cell_type": "code",
   "execution_count": 5,
   "id": "b62dba66",
   "metadata": {},
   "outputs": [
    {
     "name": "stdout",
     "output_type": "stream",
     "text": [
      "{\n",
      "  \"calorie_intake\": 1500,\n",
      "  \"meals\": {\n",
      "    \"breakfast\": \"Salty Pancakes\",\n",
      "    \"lunch\": \"Mushrooms with a Soy Sauce Glaze\",\n",
      "    \"snacks\": \"Halloween Party Mix\",\n",
      "    \"dinner\": \"Pineapple Mustard Sauce\"\n",
      "  }\n",
      "}\n"
     ]
    }
   ],
   "source": [
    "'''\n",
    "print(recommend_meal(1500))\n",
    "\n",
    "{\n",
    "  \"calorie_intake\": 1500,\n",
    "  \"meals\": {\n",
    "    \"breakfast\": \"Salty Pancakes\",\n",
    "    \"lunch\": \"Mushrooms with a Soy Sauce Glaze\",\n",
    "    \"snacks\": \"Halloween Party Mix\",\n",
    "    \"dinner\": \"Pineapple Mustard Sauce\"\n",
    "  }\n",
    "}\n",
    "'''"
   ]
  }
 ],
 "metadata": {
  "kernelspec": {
   "display_name": "Python 3 (ipykernel)",
   "language": "python",
   "name": "python3"
  },
  "language_info": {
   "codemirror_mode": {
    "name": "ipython",
    "version": 3
   },
   "file_extension": ".py",
   "mimetype": "text/x-python",
   "name": "python",
   "nbconvert_exporter": "python",
   "pygments_lexer": "ipython3",
   "version": "3.11.4"
  }
 },
 "nbformat": 4,
 "nbformat_minor": 5
}
